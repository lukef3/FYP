{
 "cells": [
  {
   "metadata": {
    "ExecuteTime": {
     "end_time": "2025-02-12T23:20:46.881877Z",
     "start_time": "2025-02-12T23:20:46.878918Z"
    }
   },
   "cell_type": "code",
   "source": [
    "import os\n",
    "import numpy as np\n",
    "import json\n",
    "from skmultilearn.model_selection import iterative_train_test_split\n",
    "import torch\n",
    "\n",
    "from torch.utils.data import Dataset\n",
    "from torchvision import transforms\n",
    "from torch.utils.data import DataLoader\n",
    "from PIL import Image\n",
    "\n",
    "import torch.nn as nn\n",
    "import torch.nn.functional as F"
   ],
   "id": "dac772af76a78bc1",
   "outputs": [],
   "execution_count": 75
  },
  {
   "metadata": {
    "collapsed": true,
    "ExecuteTime": {
     "end_time": "2025-02-12T23:20:50.370888Z",
     "start_time": "2025-02-12T23:20:46.881877Z"
    }
   },
   "cell_type": "code",
   "source": [
    "dataset_directory = 'dataset'\n",
    "\n",
    "images = []\n",
    "labels = []\n",
    "\n",
    "for recipe_folder in os.listdir(dataset_directory):\n",
    "    recipe_path = os.path.join(dataset_directory, recipe_folder)\n",
    "    allergens_file = os.path.join(recipe_path, 'allergens.json')\n",
    "\n",
    "    if os.path.isfile(allergens_file):\n",
    "        with open(allergens_file, 'r') as f:\n",
    "            data = json.load(f)\n",
    "            allergens = data['allergens']\n",
    "\n",
    "            for image in data['images']:\n",
    "                images.append(os.path.join(dataset_directory, recipe_folder, image))\n",
    "                labels.append(allergens)"
   ],
   "id": "initial_id",
   "outputs": [],
   "execution_count": 76
  },
  {
   "metadata": {
    "ExecuteTime": {
     "end_time": "2025-02-12T23:20:50.424506Z",
     "start_time": "2025-02-12T23:20:50.388214Z"
    }
   },
   "cell_type": "code",
   "source": [
    "x = np.array(images).reshape(-1,1) # iterative_train_test_split expects 2d array\n",
    "y = np.array(labels)"
   ],
   "id": "61a7e57ddb6e4ab",
   "outputs": [],
   "execution_count": 77
  },
  {
   "metadata": {
    "ExecuteTime": {
     "end_time": "2025-02-12T23:21:03.884396Z",
     "start_time": "2025-02-12T23:20:50.441213Z"
    }
   },
   "cell_type": "code",
   "source": "x_train, y_train, x_temp, y_temp = iterative_train_test_split(x, y, test_size=0.3) # http://scikit.ml/stratification.html",
   "id": "e0b1141d75a591e3",
   "outputs": [],
   "execution_count": 78
  },
  {
   "metadata": {
    "ExecuteTime": {
     "end_time": "2025-02-12T23:21:05.315394Z",
     "start_time": "2025-02-12T23:21:03.901440Z"
    }
   },
   "cell_type": "code",
   "source": "x_test, y_test, x_val, y_val = iterative_train_test_split(x_temp, y_temp, test_size=0.5)",
   "id": "fdcd7562614b031b",
   "outputs": [],
   "execution_count": 79
  },
  {
   "metadata": {
    "ExecuteTime": {
     "end_time": "2025-02-12T23:21:05.338908Z",
     "start_time": "2025-02-12T23:21:05.335803Z"
    }
   },
   "cell_type": "code",
   "source": "print(x_train.shape, y_train.shape, x_test.shape, y_test.shape, x_val.shape, y_val.shape)",
   "id": "d7cac7ad7a637d8a",
   "outputs": [
    {
     "name": "stdout",
     "output_type": "stream",
     "text": [
      "(43415, 1) (43415, 14) (9304, 1) (9304, 14) (9303, 1) (9303, 14)\n"
     ]
    }
   ],
   "execution_count": 80
  },
  {
   "metadata": {
    "ExecuteTime": {
     "end_time": "2025-02-12T23:21:05.359339Z",
     "start_time": "2025-02-12T23:21:05.356613Z"
    }
   },
   "cell_type": "code",
   "source": "x_train",
   "id": "c08d6b0ce2e7a31f",
   "outputs": [
    {
     "data": {
      "text/plain": [
       "array([['dataset\\\\$25_pumpkin_pie\\\\images/image_2.jpg'],\n",
       "       [\"dataset\\\\'get_up_&_go'_bars\\\\images/image_2.jpg\"],\n",
       "       ['dataset\\\\(panera_bread)_black_bean_soup\\\\images/image_2.jpg'],\n",
       "       ...,\n",
       "       [\"dataset\\\\zurie's_overnight_no-knead_bread\\\\images/image_3.jpg\"],\n",
       "       [\"dataset\\\\zurie's_overnight_no-knead_bread\\\\images/image_4.jpg\"],\n",
       "       [\"dataset\\\\zurie's_overnight_no-knead_bread\\\\images/image_5.jpg\"]],\n",
       "      dtype='<U93')"
      ]
     },
     "execution_count": 81,
     "metadata": {},
     "output_type": "execute_result"
    }
   ],
   "execution_count": 81
  },
  {
   "metadata": {
    "ExecuteTime": {
     "end_time": "2025-02-12T23:40:44.627074Z",
     "start_time": "2025-02-12T23:40:44.622525Z"
    }
   },
   "cell_type": "code",
   "source": [
    "# https://pytorch.org/tutorials/beginner/basics/data_tutorial.html#creating-a-custom-dataset-for-your-files\n",
    "\n",
    "class FoodAllergenDataset(Dataset):\n",
    "    def __init__(self, image_paths, labels, transform=None, target_transform=None):\n",
    "        self.image_paths = image_paths\n",
    "        self.labels = labels\n",
    "        self.transform = transform\n",
    "        self.target_transform = target_transform\n",
    "\n",
    "    def __len__(self):\n",
    "        return len(self.image_paths)\n",
    "\n",
    "    def __getitem__(self, idx):\n",
    "        img_path = self.image_paths[idx][0]\n",
    "        image = Image.open(img_path).convert('RGB') # Convert all images to 3 channel RGB as dataset contains some 4 channel RGBA images \n",
    "        label = torch.tensor(self.labels[idx], dtype=torch.float32)\n",
    "\n",
    "        if self.transform:\n",
    "            image = self.transform(image)\n",
    "        if self.target_transform:\n",
    "            label = self.target_transform(label)\n",
    "\n",
    "        return image, label"
   ],
   "id": "a2eba2402c2d31a9",
   "outputs": [],
   "execution_count": 114
  },
  {
   "metadata": {
    "ExecuteTime": {
     "end_time": "2025-02-12T23:41:53.558366Z",
     "start_time": "2025-02-12T23:41:53.550634Z"
    }
   },
   "cell_type": "code",
   "source": [
    "transform = transforms.Compose([\n",
    "    transforms.Resize((128, 128)),\n",
    "    transforms.ToTensor(),\n",
    "    transforms.Normalize((0.5, 0.5, 0.5), (0.5, 0.5, 0.5))\n",
    "])\n",
    "\n",
    "# Test more transforms later in training - cropping, rotation, centering etc."
   ],
   "id": "48a0b653a429a7cb",
   "outputs": [],
   "execution_count": 117
  },
  {
   "metadata": {
    "ExecuteTime": {
     "end_time": "2025-02-12T23:41:53.957578Z",
     "start_time": "2025-02-12T23:41:53.947817Z"
    }
   },
   "cell_type": "code",
   "source": [
    "train_dataset = FoodAllergenDataset(x_train, y_train, transform=transform)\n",
    "val_dataset = FoodAllergenDataset(x_val, y_val, transform=transform)\n",
    "test_dataset = FoodAllergenDataset(x_test, y_test, transform=transform)"
   ],
   "id": "6e06e9c34f2f4aac",
   "outputs": [],
   "execution_count": 118
  },
  {
   "metadata": {
    "ExecuteTime": {
     "end_time": "2025-02-12T23:41:54.366457Z",
     "start_time": "2025-02-12T23:41:54.349310Z"
    }
   },
   "cell_type": "code",
   "source": [
    "# Create DataLoaders\n",
    "train_dataloader = DataLoader(train_dataset, batch_size=64, shuffle=True)\n",
    "val_dataloader = DataLoader(val_dataset, batch_size=64, shuffle=False)\n",
    "test_dataloader = DataLoader(test_dataset, batch_size=64, shuffle=False)"
   ],
   "id": "9980100f8c7a9b8e",
   "outputs": [],
   "execution_count": 119
  },
  {
   "metadata": {
    "ExecuteTime": {
     "end_time": "2025-02-12T23:41:58.161808Z",
     "start_time": "2025-02-12T23:41:54.806370Z"
    }
   },
   "cell_type": "code",
   "source": [
    "for images, labels in train_dataloader:\n",
    "    print(images.shape)  \n",
    "    print(labels.shape)"
   ],
   "id": "ccc577398822d193",
   "outputs": [
    {
     "name": "stdout",
     "output_type": "stream",
     "text": [
      "torch.Size([64, 3, 128, 128])\n",
      "torch.Size([64, 14])\n",
      "torch.Size([64, 3, 128, 128])\n",
      "torch.Size([64, 14])\n",
      "torch.Size([64, 3, 128, 128])\n",
      "torch.Size([64, 14])\n",
      "torch.Size([64, 3, 128, 128])\n",
      "torch.Size([64, 14])\n",
      "torch.Size([64, 3, 128, 128])\n",
      "torch.Size([64, 14])\n",
      "torch.Size([64, 3, 128, 128])\n",
      "torch.Size([64, 14])\n",
      "torch.Size([64, 3, 128, 128])\n",
      "torch.Size([64, 14])\n",
      "torch.Size([64, 3, 128, 128])\n",
      "torch.Size([64, 14])\n",
      "torch.Size([64, 3, 128, 128])\n",
      "torch.Size([64, 14])\n",
      "torch.Size([64, 3, 128, 128])\n",
      "torch.Size([64, 14])\n",
      "torch.Size([64, 3, 128, 128])\n",
      "torch.Size([64, 14])\n",
      "torch.Size([64, 3, 128, 128])\n",
      "torch.Size([64, 14])\n",
      "torch.Size([64, 3, 128, 128])\n",
      "torch.Size([64, 14])\n",
      "torch.Size([64, 3, 128, 128])\n",
      "torch.Size([64, 14])\n",
      "torch.Size([64, 3, 128, 128])\n",
      "torch.Size([64, 14])\n",
      "torch.Size([64, 3, 128, 128])\n",
      "torch.Size([64, 14])\n",
      "torch.Size([64, 3, 128, 128])\n",
      "torch.Size([64, 14])\n",
      "torch.Size([64, 3, 128, 128])\n",
      "torch.Size([64, 14])\n",
      "torch.Size([64, 3, 128, 128])\n",
      "torch.Size([64, 14])\n"
     ]
    },
    {
     "ename": "KeyboardInterrupt",
     "evalue": "",
     "output_type": "error",
     "traceback": [
      "\u001B[1;31m---------------------------------------------------------------------------\u001B[0m",
      "\u001B[1;31mKeyboardInterrupt\u001B[0m                         Traceback (most recent call last)",
      "Cell \u001B[1;32mIn[120], line 1\u001B[0m\n\u001B[1;32m----> 1\u001B[0m \u001B[38;5;28;01mfor\u001B[39;00m images, labels \u001B[38;5;129;01min\u001B[39;00m train_dataloader:\n\u001B[0;32m      2\u001B[0m     \u001B[38;5;28mprint\u001B[39m(images\u001B[38;5;241m.\u001B[39mshape)  \n\u001B[0;32m      3\u001B[0m     \u001B[38;5;28mprint\u001B[39m(labels\u001B[38;5;241m.\u001B[39mshape)\n",
      "File \u001B[1;32m~\\miniconda3\\Lib\\site-packages\\torch\\utils\\data\\dataloader.py:708\u001B[0m, in \u001B[0;36m_BaseDataLoaderIter.__next__\u001B[1;34m(self)\u001B[0m\n\u001B[0;32m    705\u001B[0m \u001B[38;5;28;01mif\u001B[39;00m \u001B[38;5;28mself\u001B[39m\u001B[38;5;241m.\u001B[39m_sampler_iter \u001B[38;5;129;01mis\u001B[39;00m \u001B[38;5;28;01mNone\u001B[39;00m:\n\u001B[0;32m    706\u001B[0m     \u001B[38;5;66;03m# TODO(https://github.com/pytorch/pytorch/issues/76750)\u001B[39;00m\n\u001B[0;32m    707\u001B[0m     \u001B[38;5;28mself\u001B[39m\u001B[38;5;241m.\u001B[39m_reset()  \u001B[38;5;66;03m# type: ignore[call-arg]\u001B[39;00m\n\u001B[1;32m--> 708\u001B[0m data \u001B[38;5;241m=\u001B[39m \u001B[38;5;28mself\u001B[39m\u001B[38;5;241m.\u001B[39m_next_data()\n\u001B[0;32m    709\u001B[0m \u001B[38;5;28mself\u001B[39m\u001B[38;5;241m.\u001B[39m_num_yielded \u001B[38;5;241m+\u001B[39m\u001B[38;5;241m=\u001B[39m \u001B[38;5;241m1\u001B[39m\n\u001B[0;32m    710\u001B[0m \u001B[38;5;28;01mif\u001B[39;00m (\n\u001B[0;32m    711\u001B[0m     \u001B[38;5;28mself\u001B[39m\u001B[38;5;241m.\u001B[39m_dataset_kind \u001B[38;5;241m==\u001B[39m _DatasetKind\u001B[38;5;241m.\u001B[39mIterable\n\u001B[0;32m    712\u001B[0m     \u001B[38;5;129;01mand\u001B[39;00m \u001B[38;5;28mself\u001B[39m\u001B[38;5;241m.\u001B[39m_IterableDataset_len_called \u001B[38;5;129;01mis\u001B[39;00m \u001B[38;5;129;01mnot\u001B[39;00m \u001B[38;5;28;01mNone\u001B[39;00m\n\u001B[0;32m    713\u001B[0m     \u001B[38;5;129;01mand\u001B[39;00m \u001B[38;5;28mself\u001B[39m\u001B[38;5;241m.\u001B[39m_num_yielded \u001B[38;5;241m>\u001B[39m \u001B[38;5;28mself\u001B[39m\u001B[38;5;241m.\u001B[39m_IterableDataset_len_called\n\u001B[0;32m    714\u001B[0m ):\n",
      "File \u001B[1;32m~\\miniconda3\\Lib\\site-packages\\torch\\utils\\data\\dataloader.py:764\u001B[0m, in \u001B[0;36m_SingleProcessDataLoaderIter._next_data\u001B[1;34m(self)\u001B[0m\n\u001B[0;32m    762\u001B[0m \u001B[38;5;28;01mdef\u001B[39;00m \u001B[38;5;21m_next_data\u001B[39m(\u001B[38;5;28mself\u001B[39m):\n\u001B[0;32m    763\u001B[0m     index \u001B[38;5;241m=\u001B[39m \u001B[38;5;28mself\u001B[39m\u001B[38;5;241m.\u001B[39m_next_index()  \u001B[38;5;66;03m# may raise StopIteration\u001B[39;00m\n\u001B[1;32m--> 764\u001B[0m     data \u001B[38;5;241m=\u001B[39m \u001B[38;5;28mself\u001B[39m\u001B[38;5;241m.\u001B[39m_dataset_fetcher\u001B[38;5;241m.\u001B[39mfetch(index)  \u001B[38;5;66;03m# may raise StopIteration\u001B[39;00m\n\u001B[0;32m    765\u001B[0m     \u001B[38;5;28;01mif\u001B[39;00m \u001B[38;5;28mself\u001B[39m\u001B[38;5;241m.\u001B[39m_pin_memory:\n\u001B[0;32m    766\u001B[0m         data \u001B[38;5;241m=\u001B[39m _utils\u001B[38;5;241m.\u001B[39mpin_memory\u001B[38;5;241m.\u001B[39mpin_memory(data, \u001B[38;5;28mself\u001B[39m\u001B[38;5;241m.\u001B[39m_pin_memory_device)\n",
      "File \u001B[1;32m~\\miniconda3\\Lib\\site-packages\\torch\\utils\\data\\_utils\\fetch.py:52\u001B[0m, in \u001B[0;36m_MapDatasetFetcher.fetch\u001B[1;34m(self, possibly_batched_index)\u001B[0m\n\u001B[0;32m     50\u001B[0m         data \u001B[38;5;241m=\u001B[39m \u001B[38;5;28mself\u001B[39m\u001B[38;5;241m.\u001B[39mdataset\u001B[38;5;241m.\u001B[39m__getitems__(possibly_batched_index)\n\u001B[0;32m     51\u001B[0m     \u001B[38;5;28;01melse\u001B[39;00m:\n\u001B[1;32m---> 52\u001B[0m         data \u001B[38;5;241m=\u001B[39m [\u001B[38;5;28mself\u001B[39m\u001B[38;5;241m.\u001B[39mdataset[idx] \u001B[38;5;28;01mfor\u001B[39;00m idx \u001B[38;5;129;01min\u001B[39;00m possibly_batched_index]\n\u001B[0;32m     53\u001B[0m \u001B[38;5;28;01melse\u001B[39;00m:\n\u001B[0;32m     54\u001B[0m     data \u001B[38;5;241m=\u001B[39m \u001B[38;5;28mself\u001B[39m\u001B[38;5;241m.\u001B[39mdataset[possibly_batched_index]\n",
      "Cell \u001B[1;32mIn[114], line 15\u001B[0m, in \u001B[0;36mFoodAllergenDataset.__getitem__\u001B[1;34m(self, idx)\u001B[0m\n\u001B[0;32m     13\u001B[0m \u001B[38;5;28;01mdef\u001B[39;00m \u001B[38;5;21m__getitem__\u001B[39m(\u001B[38;5;28mself\u001B[39m, idx):\n\u001B[0;32m     14\u001B[0m     img_path \u001B[38;5;241m=\u001B[39m \u001B[38;5;28mself\u001B[39m\u001B[38;5;241m.\u001B[39mimage_paths[idx][\u001B[38;5;241m0\u001B[39m]\n\u001B[1;32m---> 15\u001B[0m     image \u001B[38;5;241m=\u001B[39m Image\u001B[38;5;241m.\u001B[39mopen(img_path)\u001B[38;5;241m.\u001B[39mconvert(\u001B[38;5;124m'\u001B[39m\u001B[38;5;124mRGB\u001B[39m\u001B[38;5;124m'\u001B[39m) \u001B[38;5;66;03m# Convert all images to 3 channel RGB as dataset contains some 4 channel RGBA images \u001B[39;00m\n\u001B[0;32m     16\u001B[0m     label \u001B[38;5;241m=\u001B[39m torch\u001B[38;5;241m.\u001B[39mtensor(\u001B[38;5;28mself\u001B[39m\u001B[38;5;241m.\u001B[39mlabels[idx], dtype\u001B[38;5;241m=\u001B[39mtorch\u001B[38;5;241m.\u001B[39mfloat32)\n\u001B[0;32m     18\u001B[0m     \u001B[38;5;28;01mif\u001B[39;00m \u001B[38;5;28mself\u001B[39m\u001B[38;5;241m.\u001B[39mtransform:\n",
      "File \u001B[1;32m~\\miniconda3\\Lib\\site-packages\\PIL\\Image.py:3466\u001B[0m, in \u001B[0;36mopen\u001B[1;34m(fp, mode, formats)\u001B[0m\n\u001B[0;32m   3464\u001B[0m filename: \u001B[38;5;28mstr\u001B[39m \u001B[38;5;241m|\u001B[39m \u001B[38;5;28mbytes\u001B[39m \u001B[38;5;241m=\u001B[39m \u001B[38;5;124m\"\u001B[39m\u001B[38;5;124m\"\u001B[39m\n\u001B[0;32m   3465\u001B[0m \u001B[38;5;28;01mif\u001B[39;00m is_path(fp):\n\u001B[1;32m-> 3466\u001B[0m     filename \u001B[38;5;241m=\u001B[39m os\u001B[38;5;241m.\u001B[39mpath\u001B[38;5;241m.\u001B[39mrealpath(os\u001B[38;5;241m.\u001B[39mfspath(fp))\n\u001B[0;32m   3468\u001B[0m \u001B[38;5;28;01mif\u001B[39;00m filename:\n\u001B[0;32m   3469\u001B[0m     fp \u001B[38;5;241m=\u001B[39m builtins\u001B[38;5;241m.\u001B[39mopen(filename, \u001B[38;5;124m\"\u001B[39m\u001B[38;5;124mrb\u001B[39m\u001B[38;5;124m\"\u001B[39m)\n",
      "File \u001B[1;32m~\\miniconda3\\Lib\\ntpath.py:722\u001B[0m, in \u001B[0;36mrealpath\u001B[1;34m(path, strict)\u001B[0m\n\u001B[0;32m    720\u001B[0m     path \u001B[38;5;241m=\u001B[39m join(cwd, path)\n\u001B[0;32m    721\u001B[0m \u001B[38;5;28;01mtry\u001B[39;00m:\n\u001B[1;32m--> 722\u001B[0m     path \u001B[38;5;241m=\u001B[39m _getfinalpathname(path)\n\u001B[0;32m    723\u001B[0m     initial_winerror \u001B[38;5;241m=\u001B[39m \u001B[38;5;241m0\u001B[39m\n\u001B[0;32m    724\u001B[0m \u001B[38;5;28;01mexcept\u001B[39;00m \u001B[38;5;167;01mValueError\u001B[39;00m \u001B[38;5;28;01mas\u001B[39;00m ex:\n\u001B[0;32m    725\u001B[0m     \u001B[38;5;66;03m# gh-106242: Raised for embedded null characters\u001B[39;00m\n\u001B[0;32m    726\u001B[0m     \u001B[38;5;66;03m# In strict mode, we convert into an OSError.\u001B[39;00m\n\u001B[0;32m    727\u001B[0m     \u001B[38;5;66;03m# Non-strict mode returns the path as-is, since we've already\u001B[39;00m\n\u001B[0;32m    728\u001B[0m     \u001B[38;5;66;03m# made it absolute.\u001B[39;00m\n",
      "\u001B[1;31mKeyboardInterrupt\u001B[0m: "
     ]
    }
   ],
   "execution_count": 120
  },
  {
   "metadata": {
    "ExecuteTime": {
     "end_time": "2025-02-12T23:41:58.217197Z",
     "start_time": "2025-02-12T23:40:31.700986Z"
    }
   },
   "cell_type": "code",
   "source": [
    "# Sample CNN model from pytorch\n",
    "\n",
    "class Net(nn.Module):\n",
    "    def __init__(self):\n",
    "        super(Net, self).__init__()\n",
    "        self.conv1 = nn.Conv2d(3, 6, 5)\n",
    "        self.pool = nn.MaxPool2d(2, 2)\n",
    "        self.conv2 = nn.Conv2d(6, 16, 5)\n",
    "        self.fc1 = nn.Linear(16 * 5 * 5, 120)\n",
    "        self.fc2 = nn.Linear(120, 84)\n",
    "        self.fc3 = nn.Linear(84, 10)\n",
    "\n",
    "    def forward(self, x):\n",
    "        x = self.pool(F.relu(self.conv1(x)))\n",
    "        x = self.pool(F.relu(self.conv2(x)))\n",
    "        x = x.view(-1, 16 * 5 * 5)\n",
    "        x = F.relu(self.fc1(x))\n",
    "        x = F.relu(self.fc2(x))\n",
    "        x = self.fc3(x)\n",
    "        return x\n",
    "\n",
    "\n",
    "net = Net()"
   ],
   "id": "b462fd5100f584cb",
   "outputs": [],
   "execution_count": 113
  },
  {
   "metadata": {},
   "cell_type": "code",
   "outputs": [],
   "execution_count": null,
   "source": "",
   "id": "bd526f6ce0ee4941"
  }
 ],
 "metadata": {
  "kernelspec": {
   "display_name": "Python 3",
   "language": "python",
   "name": "python3"
  },
  "language_info": {
   "codemirror_mode": {
    "name": "ipython",
    "version": 2
   },
   "file_extension": ".py",
   "mimetype": "text/x-python",
   "name": "python",
   "nbconvert_exporter": "python",
   "pygments_lexer": "ipython2",
   "version": "2.7.6"
  }
 },
 "nbformat": 4,
 "nbformat_minor": 5
}
