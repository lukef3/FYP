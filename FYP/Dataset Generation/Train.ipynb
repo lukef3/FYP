{
 "cells": [
  {
   "metadata": {
    "ExecuteTime": {
     "end_time": "2025-02-12T16:01:13.620254Z",
     "start_time": "2025-02-12T16:01:13.618199Z"
    }
   },
   "cell_type": "code",
   "source": [
    "import os\n",
    "import numpy as np\n",
    "import json\n",
    "from skmultilearn.model_selection import iterative_train_test_split"
   ],
   "id": "dac772af76a78bc1",
   "outputs": [],
   "execution_count": 2
  },
  {
   "metadata": {
    "collapsed": true,
    "ExecuteTime": {
     "end_time": "2025-02-12T16:02:29.314902Z",
     "start_time": "2025-02-12T16:01:14.383727Z"
    }
   },
   "cell_type": "code",
   "source": [
    "dataset_directory = 'dataset'\n",
    "\n",
    "images = []\n",
    "labels = []\n",
    "\n",
    "for recipe_folder in os.listdir(dataset_directory):\n",
    "    recipe_path = os.path.join(dataset_directory, recipe_folder)\n",
    "    allergens_file = os.path.join(recipe_path, 'allergens.json')\n",
    "\n",
    "    if os.path.isfile(allergens_file):\n",
    "        with open(allergens_file, 'r') as f:\n",
    "            data = json.load(f)\n",
    "            allergens = data['allergens']\n",
    "\n",
    "            for image in data['images']:\n",
    "                images.append(os.path.join(recipe_folder, image))\n",
    "                labels.append(allergens)"
   ],
   "id": "initial_id",
   "outputs": [],
   "execution_count": 3
  },
  {
   "metadata": {
    "ExecuteTime": {
     "end_time": "2025-02-12T16:06:38.122491Z",
     "start_time": "2025-02-12T16:06:38.085250Z"
    }
   },
   "cell_type": "code",
   "source": [
    "x = np.array(images).reshape(-1,1) # iterative_train_test_split expects 2d array\n",
    "y = np.array(labels)"
   ],
   "id": "61a7e57ddb6e4ab",
   "outputs": [],
   "execution_count": 4
  },
  {
   "metadata": {
    "ExecuteTime": {
     "end_time": "2025-02-12T16:06:55.027217Z",
     "start_time": "2025-02-12T16:06:41.630143Z"
    }
   },
   "cell_type": "code",
   "source": "x_train, y_train, x_temp, y_temp = iterative_train_test_split(x, y, test_size=0.3) # http://scikit.ml/stratification.html",
   "id": "e0b1141d75a591e3",
   "outputs": [],
   "execution_count": 5
  },
  {
   "metadata": {
    "ExecuteTime": {
     "end_time": "2025-02-12T16:07:18.235546Z",
     "start_time": "2025-02-12T16:07:16.711142Z"
    }
   },
   "cell_type": "code",
   "source": "x_test, y_test, x_val, y_val = iterative_train_test_split(x_temp, y_temp, test_size=0.5)",
   "id": "fdcd7562614b031b",
   "outputs": [],
   "execution_count": 6
  },
  {
   "metadata": {
    "ExecuteTime": {
     "end_time": "2025-02-12T16:07:24.546492Z",
     "start_time": "2025-02-12T16:07:24.543762Z"
    }
   },
   "cell_type": "code",
   "source": "print(x_train.shape, y_train.shape, x_test.shape, y_test.shape, x_val.shape, y_val.shape)",
   "id": "d7cac7ad7a637d8a",
   "outputs": [
    {
     "name": "stdout",
     "output_type": "stream",
     "text": [
      "(43415, 1) (43415, 14) (9304, 1) (9304, 14) (9303, 1) (9303, 14)\n"
     ]
    }
   ],
   "execution_count": 7
  },
  {
   "metadata": {
    "ExecuteTime": {
     "end_time": "2025-02-10T14:14:44.506368Z",
     "start_time": "2025-02-10T14:14:44.490059Z"
    }
   },
   "cell_type": "code",
   "source": "",
   "id": "955744d116083ab9",
   "outputs": [],
   "execution_count": null
  }
 ],
 "metadata": {
  "kernelspec": {
   "display_name": "Python 3",
   "language": "python",
   "name": "python3"
  },
  "language_info": {
   "codemirror_mode": {
    "name": "ipython",
    "version": 2
   },
   "file_extension": ".py",
   "mimetype": "text/x-python",
   "name": "python",
   "nbconvert_exporter": "python",
   "pygments_lexer": "ipython2",
   "version": "2.7.6"
  }
 },
 "nbformat": 4,
 "nbformat_minor": 5
}
