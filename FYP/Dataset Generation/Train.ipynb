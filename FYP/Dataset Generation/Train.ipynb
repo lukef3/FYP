{
 "cells": [
  {
   "metadata": {
    "ExecuteTime": {
     "end_time": "2025-02-13T12:45:32.510652Z",
     "start_time": "2025-02-13T12:45:32.505726Z"
    }
   },
   "cell_type": "code",
   "source": [
    "import os\n",
    "import numpy as np\n",
    "import json\n",
    "from skmultilearn.model_selection import iterative_train_test_split\n",
    "import torch\n",
    "\n",
    "from torch.utils.data import Dataset\n",
    "from torchvision import transforms\n",
    "from torch.utils.data import DataLoader\n",
    "from PIL import Image\n",
    "\n",
    "import torch.nn as nn\n",
    "import torch.nn.functional as F"
   ],
   "id": "dac772af76a78bc1",
   "outputs": [],
   "execution_count": 54
  },
  {
   "metadata": {
    "collapsed": true,
    "ExecuteTime": {
     "end_time": "2025-02-13T12:46:27.822656Z",
     "start_time": "2025-02-13T12:45:32.517661Z"
    }
   },
   "cell_type": "code",
   "source": [
    "dataset_directory = 'dataset'\n",
    "\n",
    "images = []\n",
    "labels = []\n",
    "\n",
    "for recipe_folder in os.listdir(dataset_directory):\n",
    "    recipe_path = os.path.join(dataset_directory, recipe_folder)\n",
    "    allergens_file = os.path.join(recipe_path, 'allergens.json')\n",
    "\n",
    "    if os.path.isfile(allergens_file):\n",
    "        with open(allergens_file, 'r') as f:\n",
    "            data = json.load(f)\n",
    "            allergens = data['allergens']\n",
    "\n",
    "            for image in data['images']:\n",
    "                images.append(os.path.join(dataset_directory, recipe_folder, image))\n",
    "                labels.append(allergens)"
   ],
   "id": "initial_id",
   "outputs": [],
   "execution_count": 55
  },
  {
   "metadata": {
    "ExecuteTime": {
     "end_time": "2025-02-13T12:46:27.884543Z",
     "start_time": "2025-02-13T12:46:27.836875Z"
    }
   },
   "cell_type": "code",
   "source": [
    "x = np.array(images).reshape(-1,1) # iterative_train_test_split expects 2d array\n",
    "y = np.array(labels)"
   ],
   "id": "61a7e57ddb6e4ab",
   "outputs": [],
   "execution_count": 56
  },
  {
   "metadata": {
    "ExecuteTime": {
     "end_time": "2025-02-13T12:46:40.422032Z",
     "start_time": "2025-02-13T12:46:27.896575Z"
    }
   },
   "cell_type": "code",
   "source": "x_train, y_train, x_temp, y_temp = iterative_train_test_split(x, y, test_size=0.3) # http://scikit.ml/stratification.html",
   "id": "e0b1141d75a591e3",
   "outputs": [],
   "execution_count": 57
  },
  {
   "metadata": {
    "ExecuteTime": {
     "end_time": "2025-02-13T12:46:41.849353Z",
     "start_time": "2025-02-13T12:46:40.433293Z"
    }
   },
   "cell_type": "code",
   "source": "x_test, y_test, x_val, y_val = iterative_train_test_split(x_temp, y_temp, test_size=0.5)",
   "id": "fdcd7562614b031b",
   "outputs": [],
   "execution_count": 58
  },
  {
   "metadata": {
    "ExecuteTime": {
     "end_time": "2025-02-13T12:46:41.864786Z",
     "start_time": "2025-02-13T12:46:41.861114Z"
    }
   },
   "cell_type": "code",
   "source": "print(x_train.shape, y_train.shape, x_test.shape, y_test.shape, x_val.shape, y_val.shape)",
   "id": "d7cac7ad7a637d8a",
   "outputs": [
    {
     "name": "stdout",
     "output_type": "stream",
     "text": [
      "(43415, 1) (43415, 14) (9304, 1) (9304, 14) (9303, 1) (9303, 14)\n"
     ]
    }
   ],
   "execution_count": 59
  },
  {
   "metadata": {
    "ExecuteTime": {
     "end_time": "2025-02-13T12:46:41.881383Z",
     "start_time": "2025-02-13T12:46:41.876987Z"
    }
   },
   "cell_type": "code",
   "source": "x_train",
   "id": "c08d6b0ce2e7a31f",
   "outputs": [
    {
     "data": {
      "text/plain": [
       "array([['dataset\\\\$25_pumpkin_pie\\\\images/image_2.jpg'],\n",
       "       [\"dataset\\\\'get_up_&_go'_bars\\\\images/image_2.jpg\"],\n",
       "       ['dataset\\\\(panera_bread)_black_bean_soup\\\\images/image_2.jpg'],\n",
       "       ...,\n",
       "       [\"dataset\\\\zurie's_overnight_no-knead_bread\\\\images/image_3.jpg\"],\n",
       "       [\"dataset\\\\zurie's_overnight_no-knead_bread\\\\images/image_4.jpg\"],\n",
       "       [\"dataset\\\\zurie's_overnight_no-knead_bread\\\\images/image_5.jpg\"]],\n",
       "      shape=(43415, 1), dtype='<U93')"
      ]
     },
     "execution_count": 60,
     "metadata": {},
     "output_type": "execute_result"
    }
   ],
   "execution_count": 60
  },
  {
   "metadata": {
    "ExecuteTime": {
     "end_time": "2025-02-13T12:46:41.920339Z",
     "start_time": "2025-02-13T12:46:41.916224Z"
    }
   },
   "cell_type": "code",
   "source": [
    "# https://pytorch.org/tutorials/beginner/basics/data_tutorial.html#creating-a-custom-dataset-for-your-files\n",
    "\n",
    "class FoodAllergenDataset(Dataset):\n",
    "    def __init__(self, image_paths, labels, transform=None, target_transform=None):\n",
    "        self.image_paths = image_paths\n",
    "        self.labels = labels\n",
    "        self.transform = transform\n",
    "        self.target_transform = target_transform\n",
    "\n",
    "    def __len__(self):\n",
    "        return len(self.image_paths)\n",
    "\n",
    "    def __getitem__(self, idx):\n",
    "        img_path = self.image_paths[idx][0]\n",
    "        image = Image.open(img_path).convert('RGB') # Convert all images to 3 channel RGB as dataset contains some 4 channel RGBA images \n",
    "        label = torch.tensor(self.labels[idx], dtype=torch.float32)\n",
    "\n",
    "        if self.transform:\n",
    "            image = self.transform(image)\n",
    "        if self.target_transform:\n",
    "            label = self.target_transform(label)\n",
    "\n",
    "        return image, label"
   ],
   "id": "a2eba2402c2d31a9",
   "outputs": [],
   "execution_count": 61
  },
  {
   "metadata": {
    "ExecuteTime": {
     "end_time": "2025-02-13T12:46:41.962596Z",
     "start_time": "2025-02-13T12:46:41.959229Z"
    }
   },
   "cell_type": "code",
   "source": [
    "transform = transforms.Compose([\n",
    "    transforms.Resize((128, 128)),\n",
    "    transforms.ToTensor(),\n",
    "    transforms.Normalize((0.5, 0.5, 0.5), (0.5, 0.5, 0.5))\n",
    "])\n",
    "\n",
    "# Test more transforms later in training - cropping, rotation, centering etc."
   ],
   "id": "48a0b653a429a7cb",
   "outputs": [],
   "execution_count": 62
  },
  {
   "metadata": {
    "ExecuteTime": {
     "end_time": "2025-02-13T12:46:41.973231Z",
     "start_time": "2025-02-13T12:46:41.969603Z"
    }
   },
   "cell_type": "code",
   "source": [
    "train_dataset = FoodAllergenDataset(x_train, y_train, transform=transform)\n",
    "val_dataset = FoodAllergenDataset(x_val, y_val, transform=transform)\n",
    "test_dataset = FoodAllergenDataset(x_test, y_test, transform=transform)"
   ],
   "id": "6e06e9c34f2f4aac",
   "outputs": [],
   "execution_count": 63
  },
  {
   "metadata": {
    "ExecuteTime": {
     "end_time": "2025-02-13T12:46:41.998583Z",
     "start_time": "2025-02-13T12:46:41.995897Z"
    }
   },
   "cell_type": "code",
   "source": [
    "# Hyperparameters\n",
    "learning_rate = 1e-3\n",
    "batch_size = 64\n",
    "epochs = 5"
   ],
   "id": "e2fdecf16bbdd51f",
   "outputs": [],
   "execution_count": 64
  },
  {
   "metadata": {
    "ExecuteTime": {
     "end_time": "2025-02-13T12:46:42.017457Z",
     "start_time": "2025-02-13T12:46:42.013992Z"
    }
   },
   "cell_type": "code",
   "source": [
    "# Create DataLoaders\n",
    "train_dataloader = DataLoader(train_dataset, batch_size=batch_size, shuffle=True)   # Adjust batch size for training\n",
    "val_dataloader = DataLoader(val_dataset, batch_size=batch_size, shuffle=False)\n",
    "test_dataloader = DataLoader(test_dataset, batch_size=batch_size, shuffle=False)"
   ],
   "id": "9980100f8c7a9b8e",
   "outputs": [],
   "execution_count": 65
  },
  {
   "metadata": {
    "ExecuteTime": {
     "end_time": "2025-02-13T12:46:48.836228Z",
     "start_time": "2025-02-13T12:46:42.027979Z"
    }
   },
   "cell_type": "code",
   "source": [
    "for images, labels in train_dataloader:\n",
    "    print(images.shape)  \n",
    "    print(labels.shape)"
   ],
   "id": "ccc577398822d193",
   "outputs": [
    {
     "name": "stdout",
     "output_type": "stream",
     "text": [
      "torch.Size([64, 3, 128, 128])\n",
      "torch.Size([64, 14])\n",
      "torch.Size([64, 3, 128, 128])\n",
      "torch.Size([64, 14])\n",
      "torch.Size([64, 3, 128, 128])\n",
      "torch.Size([64, 14])\n",
      "torch.Size([64, 3, 128, 128])\n",
      "torch.Size([64, 14])\n",
      "torch.Size([64, 3, 128, 128])\n",
      "torch.Size([64, 14])\n",
      "torch.Size([64, 3, 128, 128])\n",
      "torch.Size([64, 14])\n",
      "torch.Size([64, 3, 128, 128])\n",
      "torch.Size([64, 14])\n",
      "torch.Size([64, 3, 128, 128])\n",
      "torch.Size([64, 14])\n",
      "torch.Size([64, 3, 128, 128])\n",
      "torch.Size([64, 14])\n",
      "torch.Size([64, 3, 128, 128])\n",
      "torch.Size([64, 14])\n",
      "torch.Size([64, 3, 128, 128])\n",
      "torch.Size([64, 14])\n",
      "torch.Size([64, 3, 128, 128])\n",
      "torch.Size([64, 14])\n",
      "torch.Size([64, 3, 128, 128])\n",
      "torch.Size([64, 14])\n",
      "torch.Size([64, 3, 128, 128])\n",
      "torch.Size([64, 14])\n",
      "torch.Size([64, 3, 128, 128])\n",
      "torch.Size([64, 14])\n",
      "torch.Size([64, 3, 128, 128])\n",
      "torch.Size([64, 14])\n",
      "torch.Size([64, 3, 128, 128])\n",
      "torch.Size([64, 14])\n",
      "torch.Size([64, 3, 128, 128])\n",
      "torch.Size([64, 14])\n",
      "torch.Size([64, 3, 128, 128])\n",
      "torch.Size([64, 14])\n",
      "torch.Size([64, 3, 128, 128])\n",
      "torch.Size([64, 14])\n",
      "torch.Size([64, 3, 128, 128])\n",
      "torch.Size([64, 14])\n",
      "torch.Size([64, 3, 128, 128])\n",
      "torch.Size([64, 14])\n",
      "torch.Size([64, 3, 128, 128])\n",
      "torch.Size([64, 14])\n",
      "torch.Size([64, 3, 128, 128])\n",
      "torch.Size([64, 14])\n",
      "torch.Size([64, 3, 128, 128])\n",
      "torch.Size([64, 14])\n"
     ]
    },
    {
     "ename": "KeyboardInterrupt",
     "evalue": "",
     "output_type": "error",
     "traceback": [
      "\u001B[1;31m---------------------------------------------------------------------------\u001B[0m",
      "\u001B[1;31mKeyboardInterrupt\u001B[0m                         Traceback (most recent call last)",
      "Cell \u001B[1;32mIn[66], line 1\u001B[0m\n\u001B[1;32m----> 1\u001B[0m \u001B[38;5;28;43;01mfor\u001B[39;49;00m\u001B[43m \u001B[49m\u001B[43mimages\u001B[49m\u001B[43m,\u001B[49m\u001B[43m \u001B[49m\u001B[43mlabels\u001B[49m\u001B[43m \u001B[49m\u001B[38;5;129;43;01min\u001B[39;49;00m\u001B[43m \u001B[49m\u001B[43mtrain_dataloader\u001B[49m\u001B[43m:\u001B[49m\n\u001B[0;32m      2\u001B[0m \u001B[43m    \u001B[49m\u001B[38;5;28;43mprint\u001B[39;49m\u001B[43m(\u001B[49m\u001B[43mimages\u001B[49m\u001B[38;5;241;43m.\u001B[39;49m\u001B[43mshape\u001B[49m\u001B[43m)\u001B[49m\u001B[43m  \u001B[49m\n\u001B[0;32m      3\u001B[0m \u001B[43m    \u001B[49m\u001B[38;5;28;43mprint\u001B[39;49m\u001B[43m(\u001B[49m\u001B[43mlabels\u001B[49m\u001B[38;5;241;43m.\u001B[39;49m\u001B[43mshape\u001B[49m\u001B[43m)\u001B[49m\n",
      "File \u001B[1;32m~\\Documents\\GitHub\\FYP\\FYP\\.venv\\Lib\\site-packages\\torch\\utils\\data\\dataloader.py:708\u001B[0m, in \u001B[0;36m_BaseDataLoaderIter.__next__\u001B[1;34m(self)\u001B[0m\n\u001B[0;32m    705\u001B[0m \u001B[38;5;28;01mif\u001B[39;00m \u001B[38;5;28mself\u001B[39m\u001B[38;5;241m.\u001B[39m_sampler_iter \u001B[38;5;129;01mis\u001B[39;00m \u001B[38;5;28;01mNone\u001B[39;00m:\n\u001B[0;32m    706\u001B[0m     \u001B[38;5;66;03m# TODO(https://github.com/pytorch/pytorch/issues/76750)\u001B[39;00m\n\u001B[0;32m    707\u001B[0m     \u001B[38;5;28mself\u001B[39m\u001B[38;5;241m.\u001B[39m_reset()  \u001B[38;5;66;03m# type: ignore[call-arg]\u001B[39;00m\n\u001B[1;32m--> 708\u001B[0m data \u001B[38;5;241m=\u001B[39m \u001B[38;5;28;43mself\u001B[39;49m\u001B[38;5;241;43m.\u001B[39;49m\u001B[43m_next_data\u001B[49m\u001B[43m(\u001B[49m\u001B[43m)\u001B[49m\n\u001B[0;32m    709\u001B[0m \u001B[38;5;28mself\u001B[39m\u001B[38;5;241m.\u001B[39m_num_yielded \u001B[38;5;241m+\u001B[39m\u001B[38;5;241m=\u001B[39m \u001B[38;5;241m1\u001B[39m\n\u001B[0;32m    710\u001B[0m \u001B[38;5;28;01mif\u001B[39;00m (\n\u001B[0;32m    711\u001B[0m     \u001B[38;5;28mself\u001B[39m\u001B[38;5;241m.\u001B[39m_dataset_kind \u001B[38;5;241m==\u001B[39m _DatasetKind\u001B[38;5;241m.\u001B[39mIterable\n\u001B[0;32m    712\u001B[0m     \u001B[38;5;129;01mand\u001B[39;00m \u001B[38;5;28mself\u001B[39m\u001B[38;5;241m.\u001B[39m_IterableDataset_len_called \u001B[38;5;129;01mis\u001B[39;00m \u001B[38;5;129;01mnot\u001B[39;00m \u001B[38;5;28;01mNone\u001B[39;00m\n\u001B[0;32m    713\u001B[0m     \u001B[38;5;129;01mand\u001B[39;00m \u001B[38;5;28mself\u001B[39m\u001B[38;5;241m.\u001B[39m_num_yielded \u001B[38;5;241m>\u001B[39m \u001B[38;5;28mself\u001B[39m\u001B[38;5;241m.\u001B[39m_IterableDataset_len_called\n\u001B[0;32m    714\u001B[0m ):\n",
      "File \u001B[1;32m~\\Documents\\GitHub\\FYP\\FYP\\.venv\\Lib\\site-packages\\torch\\utils\\data\\dataloader.py:764\u001B[0m, in \u001B[0;36m_SingleProcessDataLoaderIter._next_data\u001B[1;34m(self)\u001B[0m\n\u001B[0;32m    762\u001B[0m \u001B[38;5;28;01mdef\u001B[39;00m\u001B[38;5;250m \u001B[39m\u001B[38;5;21m_next_data\u001B[39m(\u001B[38;5;28mself\u001B[39m):\n\u001B[0;32m    763\u001B[0m     index \u001B[38;5;241m=\u001B[39m \u001B[38;5;28mself\u001B[39m\u001B[38;5;241m.\u001B[39m_next_index()  \u001B[38;5;66;03m# may raise StopIteration\u001B[39;00m\n\u001B[1;32m--> 764\u001B[0m     data \u001B[38;5;241m=\u001B[39m \u001B[38;5;28;43mself\u001B[39;49m\u001B[38;5;241;43m.\u001B[39;49m\u001B[43m_dataset_fetcher\u001B[49m\u001B[38;5;241;43m.\u001B[39;49m\u001B[43mfetch\u001B[49m\u001B[43m(\u001B[49m\u001B[43mindex\u001B[49m\u001B[43m)\u001B[49m  \u001B[38;5;66;03m# may raise StopIteration\u001B[39;00m\n\u001B[0;32m    765\u001B[0m     \u001B[38;5;28;01mif\u001B[39;00m \u001B[38;5;28mself\u001B[39m\u001B[38;5;241m.\u001B[39m_pin_memory:\n\u001B[0;32m    766\u001B[0m         data \u001B[38;5;241m=\u001B[39m _utils\u001B[38;5;241m.\u001B[39mpin_memory\u001B[38;5;241m.\u001B[39mpin_memory(data, \u001B[38;5;28mself\u001B[39m\u001B[38;5;241m.\u001B[39m_pin_memory_device)\n",
      "File \u001B[1;32m~\\Documents\\GitHub\\FYP\\FYP\\.venv\\Lib\\site-packages\\torch\\utils\\data\\_utils\\fetch.py:52\u001B[0m, in \u001B[0;36m_MapDatasetFetcher.fetch\u001B[1;34m(self, possibly_batched_index)\u001B[0m\n\u001B[0;32m     50\u001B[0m         data \u001B[38;5;241m=\u001B[39m \u001B[38;5;28mself\u001B[39m\u001B[38;5;241m.\u001B[39mdataset\u001B[38;5;241m.\u001B[39m__getitems__(possibly_batched_index)\n\u001B[0;32m     51\u001B[0m     \u001B[38;5;28;01melse\u001B[39;00m:\n\u001B[1;32m---> 52\u001B[0m         data \u001B[38;5;241m=\u001B[39m [\u001B[38;5;28;43mself\u001B[39;49m\u001B[38;5;241;43m.\u001B[39;49m\u001B[43mdataset\u001B[49m\u001B[43m[\u001B[49m\u001B[43midx\u001B[49m\u001B[43m]\u001B[49m \u001B[38;5;28;01mfor\u001B[39;00m idx \u001B[38;5;129;01min\u001B[39;00m possibly_batched_index]\n\u001B[0;32m     53\u001B[0m \u001B[38;5;28;01melse\u001B[39;00m:\n\u001B[0;32m     54\u001B[0m     data \u001B[38;5;241m=\u001B[39m \u001B[38;5;28mself\u001B[39m\u001B[38;5;241m.\u001B[39mdataset[possibly_batched_index]\n",
      "Cell \u001B[1;32mIn[61], line 15\u001B[0m, in \u001B[0;36mFoodAllergenDataset.__getitem__\u001B[1;34m(self, idx)\u001B[0m\n\u001B[0;32m     13\u001B[0m \u001B[38;5;28;01mdef\u001B[39;00m\u001B[38;5;250m \u001B[39m\u001B[38;5;21m__getitem__\u001B[39m(\u001B[38;5;28mself\u001B[39m, idx):\n\u001B[0;32m     14\u001B[0m     img_path \u001B[38;5;241m=\u001B[39m \u001B[38;5;28mself\u001B[39m\u001B[38;5;241m.\u001B[39mimage_paths[idx][\u001B[38;5;241m0\u001B[39m]\n\u001B[1;32m---> 15\u001B[0m     image \u001B[38;5;241m=\u001B[39m \u001B[43mImage\u001B[49m\u001B[38;5;241;43m.\u001B[39;49m\u001B[43mopen\u001B[49m\u001B[43m(\u001B[49m\u001B[43mimg_path\u001B[49m\u001B[43m)\u001B[49m\u001B[38;5;241m.\u001B[39mconvert(\u001B[38;5;124m'\u001B[39m\u001B[38;5;124mRGB\u001B[39m\u001B[38;5;124m'\u001B[39m) \u001B[38;5;66;03m# Convert all images to 3 channel RGB as dataset contains some 4 channel RGBA images \u001B[39;00m\n\u001B[0;32m     16\u001B[0m     label \u001B[38;5;241m=\u001B[39m torch\u001B[38;5;241m.\u001B[39mtensor(\u001B[38;5;28mself\u001B[39m\u001B[38;5;241m.\u001B[39mlabels[idx], dtype\u001B[38;5;241m=\u001B[39mtorch\u001B[38;5;241m.\u001B[39mfloat32)\n\u001B[0;32m     18\u001B[0m     \u001B[38;5;28;01mif\u001B[39;00m \u001B[38;5;28mself\u001B[39m\u001B[38;5;241m.\u001B[39mtransform:\n",
      "File \u001B[1;32m~\\Documents\\GitHub\\FYP\\FYP\\.venv\\Lib\\site-packages\\PIL\\Image.py:3465\u001B[0m, in \u001B[0;36mopen\u001B[1;34m(fp, mode, formats)\u001B[0m\n\u001B[0;32m   3462\u001B[0m     filename \u001B[38;5;241m=\u001B[39m os\u001B[38;5;241m.\u001B[39mfspath(fp)\n\u001B[0;32m   3464\u001B[0m \u001B[38;5;28;01mif\u001B[39;00m filename:\n\u001B[1;32m-> 3465\u001B[0m     fp \u001B[38;5;241m=\u001B[39m \u001B[43mbuiltins\u001B[49m\u001B[38;5;241;43m.\u001B[39;49m\u001B[43mopen\u001B[49m\u001B[43m(\u001B[49m\u001B[43mfilename\u001B[49m\u001B[43m,\u001B[49m\u001B[43m \u001B[49m\u001B[38;5;124;43m\"\u001B[39;49m\u001B[38;5;124;43mrb\u001B[39;49m\u001B[38;5;124;43m\"\u001B[39;49m\u001B[43m)\u001B[49m\n\u001B[0;32m   3466\u001B[0m     exclusive_fp \u001B[38;5;241m=\u001B[39m \u001B[38;5;28;01mTrue\u001B[39;00m\n\u001B[0;32m   3467\u001B[0m \u001B[38;5;28;01melse\u001B[39;00m:\n",
      "\u001B[1;31mKeyboardInterrupt\u001B[0m: "
     ]
    }
   ],
   "execution_count": 66
  },
  {
   "metadata": {
    "ExecuteTime": {
     "end_time": "2025-02-13T12:57:12.134293Z",
     "start_time": "2025-02-13T12:57:12.117148Z"
    }
   },
   "cell_type": "code",
   "source": [
    "# Sample CNN model from pytorch\n",
    "\n",
    "class Net(nn.Module):\n",
    "    def __init__(self, num_labels=14):\n",
    "        super(Net, self).__init__()\n",
    "        self.conv1 = nn.Conv2d(3, 6, 5)\n",
    "        self.pool = nn.MaxPool2d(2, 2)\n",
    "        self.conv2 = nn.Conv2d(6, 16, 5)\n",
    "        self.fc1 = nn.Linear(16 * 29 * 29, 120)\n",
    "        self.fc2 = nn.Linear(120, 84)\n",
    "        self.fc3 = nn.Linear(84, num_labels)\n",
    "\n",
    "    def forward(self, x):\n",
    "        x = self.pool(F.relu(self.conv1(x)))\n",
    "        x = self.pool(F.relu(self.conv2(x)))\n",
    "        x = x.view(-1, 16 * 29 * 29)\n",
    "        x = F.relu(self.fc1(x))\n",
    "        x = F.relu(self.fc2(x))\n",
    "        x = self.fc3(x)\n",
    "        return x\n",
    "\n",
    "\n",
    "net = Net()"
   ],
   "id": "b462fd5100f584cb",
   "outputs": [],
   "execution_count": 75
  },
  {
   "metadata": {
    "ExecuteTime": {
     "end_time": "2025-02-13T12:57:13.858590Z",
     "start_time": "2025-02-13T12:57:13.854863Z"
    }
   },
   "cell_type": "code",
   "source": [
    "device = torch.accelerator.current_accelerator().type if torch.accelerator.is_available() else \"cpu\"\n",
    "print(f\"Using {device} device\")"
   ],
   "id": "bd526f6ce0ee4941",
   "outputs": [
    {
     "name": "stdout",
     "output_type": "stream",
     "text": [
      "Using cpu device\n"
     ]
    }
   ],
   "execution_count": 76
  },
  {
   "metadata": {
    "ExecuteTime": {
     "end_time": "2025-02-13T12:57:14.334529Z",
     "start_time": "2025-02-13T12:57:14.323510Z"
    }
   },
   "cell_type": "code",
   "source": [
    "model = Net().to(device)\n",
    "print(model)"
   ],
   "id": "cfe51ada6c5ccf93",
   "outputs": [
    {
     "name": "stdout",
     "output_type": "stream",
     "text": [
      "Net(\n",
      "  (conv1): Conv2d(3, 6, kernel_size=(5, 5), stride=(1, 1))\n",
      "  (pool): MaxPool2d(kernel_size=2, stride=2, padding=0, dilation=1, ceil_mode=False)\n",
      "  (conv2): Conv2d(6, 16, kernel_size=(5, 5), stride=(1, 1))\n",
      "  (fc1): Linear(in_features=13456, out_features=120, bias=True)\n",
      "  (fc2): Linear(in_features=120, out_features=84, bias=True)\n",
      "  (fc3): Linear(in_features=84, out_features=14, bias=True)\n",
      ")\n"
     ]
    }
   ],
   "execution_count": 77
  },
  {
   "metadata": {
    "ExecuteTime": {
     "end_time": "2025-02-13T12:57:14.949526Z",
     "start_time": "2025-02-13T12:57:14.946040Z"
    }
   },
   "cell_type": "code",
   "source": [
    "def train_loop(dataloader, model, loss_fn, optimizer):\n",
    "    size = len(dataloader.dataset)\n",
    "    model.train()\n",
    "    for batch, (images, labels) in enumerate(dataloader):\n",
    "        prediction = model(images)\n",
    "        loss = loss_fn(prediction, labels)\n",
    "\n",
    "        loss.backward()\n",
    "        optimizer.step()\n",
    "        optimizer.zero_grad()\n",
    "\n",
    "        if batch % 100 == 0:\n",
    "            loss, current = loss.item(), batch * len(images)\n",
    "            print(f\"loss: {loss:.7f} [{current:5d}/{size:5d}]\")\n"
   ],
   "id": "c825cc044a0bafaf",
   "outputs": [],
   "execution_count": 78
  },
  {
   "metadata": {
    "ExecuteTime": {
     "end_time": "2025-02-13T12:57:15.712951Z",
     "start_time": "2025-02-13T12:57:15.710337Z"
    }
   },
   "cell_type": "code",
   "source": [
    "# Define loss function\n",
    "loss_fn = nn.BCEWithLogitsLoss()\n",
    "optimizer = torch.optim.SGD(model.parameters(), lr=learning_rate)"
   ],
   "id": "4f3ac7447f8c2fdc",
   "outputs": [],
   "execution_count": 79
  },
  {
   "metadata": {
    "ExecuteTime": {
     "end_time": "2025-02-13T13:12:44.054361Z",
     "start_time": "2025-02-13T12:57:16.615418Z"
    }
   },
   "cell_type": "code",
   "source": [
    "for t in range (epochs):\n",
    "    print(f\"Epoch {t+1}/{epochs}\")\n",
    "    train_loop(train_dataloader, model, loss_fn, optimizer)\n",
    "print(f\"Training Complete\")"
   ],
   "id": "4caed9df958a9b25",
   "outputs": [
    {
     "name": "stdout",
     "output_type": "stream",
     "text": [
      "Epoch 1/5\n",
      "loss: 0.6980657 [    0/43415]\n",
      "loss: 0.6939517 [ 6400/43415]\n",
      "loss: 0.6902030 [12800/43415]\n",
      "loss: 0.6857356 [19200/43415]\n",
      "loss: 0.6842012 [25600/43415]\n",
      "loss: 0.6797877 [32000/43415]\n",
      "loss: 0.6758052 [38400/43415]\n",
      "Epoch 2/5\n",
      "loss: 0.6702064 [    0/43415]\n",
      "loss: 0.6635653 [ 6400/43415]\n",
      "loss: 0.6597129 [12800/43415]\n",
      "loss: 0.6465059 [19200/43415]\n",
      "loss: 0.6298174 [25600/43415]\n",
      "loss: 0.6064492 [32000/43415]\n",
      "loss: 0.5700330 [38400/43415]\n",
      "Epoch 3/5\n",
      "loss: 0.5189829 [    0/43415]\n",
      "loss: 0.4488837 [ 6400/43415]\n",
      "loss: 0.3732600 [12800/43415]\n",
      "loss: 0.3209126 [19200/43415]\n",
      "loss: 0.3018375 [25600/43415]\n",
      "loss: 0.2802851 [32000/43415]\n",
      "loss: 0.3072897 [38400/43415]\n",
      "Epoch 4/5\n",
      "loss: 0.2962787 [    0/43415]\n",
      "loss: 0.2813539 [ 6400/43415]\n",
      "loss: 0.2823711 [12800/43415]\n",
      "loss: 0.3156386 [19200/43415]\n",
      "loss: 0.3402604 [25600/43415]\n",
      "loss: 0.2781127 [32000/43415]\n",
      "loss: 0.2663131 [38400/43415]\n",
      "Epoch 5/5\n",
      "loss: 0.2976922 [    0/43415]\n",
      "loss: 0.2451270 [ 6400/43415]\n",
      "loss: 0.2877372 [12800/43415]\n",
      "loss: 0.2799789 [19200/43415]\n",
      "loss: 0.2428941 [25600/43415]\n",
      "loss: 0.2933417 [32000/43415]\n",
      "loss: 0.2682683 [38400/43415]\n",
      "Training Complete\n"
     ]
    }
   ],
   "execution_count": 80
  },
  {
   "metadata": {},
   "cell_type": "code",
   "outputs": [],
   "execution_count": null,
   "source": "",
   "id": "6c646a6c7300ae71"
  }
 ],
 "metadata": {
  "kernelspec": {
   "display_name": "Python 3",
   "language": "python",
   "name": "python3"
  },
  "language_info": {
   "codemirror_mode": {
    "name": "ipython",
    "version": 2
   },
   "file_extension": ".py",
   "mimetype": "text/x-python",
   "name": "python",
   "nbconvert_exporter": "python",
   "pygments_lexer": "ipython2",
   "version": "2.7.6"
  }
 },
 "nbformat": 4,
 "nbformat_minor": 5
}
