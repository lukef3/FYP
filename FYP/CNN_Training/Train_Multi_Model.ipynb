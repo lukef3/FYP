{
 "cells": [
  {
   "metadata": {},
   "cell_type": "markdown",
   "source": "Imports",
   "id": "d1a318f8bca08acd"
  },
  {
   "metadata": {
    "ExecuteTime": {
     "end_time": "2025-03-25T19:40:06.480812Z",
     "start_time": "2025-03-25T19:40:06.477482Z"
    }
   },
   "cell_type": "code",
   "source": [
    "import os\n",
    "import matplotlib.pyplot as plt\n",
    "import numpy as np\n",
    "import json\n",
    "from skmultilearn.model_selection import iterative_train_test_split\n",
    "from sklearn.metrics import confusion_matrix, classification_report\n",
    "from PIL import Image\n",
    "import seaborn as sns\n",
    "from imblearn.under_sampling import RandomUnderSampler\n",
    "\n",
    "import torch\n",
    "import torchvision.models as models\n",
    "from torch.utils.data import Dataset\n",
    "from torchvision import transforms\n",
    "from torch.utils.data import DataLoader\n",
    "import torch.nn as nn\n",
    "from torchvision.models import ResNet50_Weights\n"
   ],
   "id": "dac772af76a78bc1",
   "outputs": [],
   "execution_count": 61
  },
  {
   "metadata": {
    "ExecuteTime": {
     "end_time": "2025-03-25T19:40:06.498078Z",
     "start_time": "2025-03-25T19:40:06.495835Z"
    }
   },
   "cell_type": "code",
   "source": [
    "# label definitions\n",
    "ALLERGENS = [\n",
    "    \"Cereals containing gluten\", \"Crustaceans\", \"Eggs\", \"Fish\",\n",
    "    \"Peanuts\", \"Soybeans\", \"Milk\", \"Nuts\", \"Celery\", \"Mustard\",\n",
    "    \"Sesame seeds\",  \"Sulphur dioxide and sulphites\", \"Lupin\", \"Molluscs\"\n",
    "]"
   ],
   "id": "f6798c0068bf5a33",
   "outputs": [],
   "execution_count": 62
  },
  {
   "metadata": {},
   "cell_type": "markdown",
   "source": "Data Loading",
   "id": "915fbe3bafda22e0"
  },
  {
   "metadata": {
    "collapsed": true,
    "ExecuteTime": {
     "end_time": "2025-03-25T19:40:08.717981Z",
     "start_time": "2025-03-25T19:40:06.501723Z"
    }
   },
   "cell_type": "code",
   "source": [
    "dataset_directory = \"../Dataset Generation/dataset\"\n",
    "\n",
    "# Image and label directory arrays\n",
    "images = []\n",
    "labels = []\n",
    "\n",
    "for recipe_folder in os.listdir(dataset_directory):\n",
    "    recipe_path = os.path.join(dataset_directory, recipe_folder)\n",
    "    allergens_file = os.path.join(recipe_path, 'allergens.json')\n",
    "\n",
    "    if os.path.isfile(allergens_file):\n",
    "        with open(allergens_file, 'r') as f:\n",
    "            data = json.load(f)\n",
    "            allergens = data['allergens']\n",
    "\n",
    "            for image in data['images']:\n",
    "                images.append(os.path.join(dataset_directory, recipe_folder, image))\n",
    "                labels.append(allergens)\n",
    "\n",
    "x = np.array(images).reshape(-1,1) # iterative_train_test_split expects 2d array\n",
    "y = np.array(labels)"
   ],
   "id": "initial_id",
   "outputs": [],
   "execution_count": 63
  },
  {
   "metadata": {},
   "cell_type": "markdown",
   "source": "Dataset Loader",
   "id": "647813a33dfee08e"
  },
  {
   "metadata": {
    "ExecuteTime": {
     "end_time": "2025-03-25T19:40:08.727554Z",
     "start_time": "2025-03-25T19:40:08.723570Z"
    }
   },
   "cell_type": "code",
   "source": [
    "# Dataset loader class shell: https://pytorch.org/tutorials/beginner/basics/data_tutorial.html#creating-a-custom-dataset-for-your-files\n",
    "\n",
    "class FoodAllergenDataset(Dataset):\n",
    "    def __init__(self, image_paths, labels, transform=None, target_transform=None):\n",
    "        self.image_paths = image_paths\n",
    "        self.labels = labels\n",
    "        self.transform = transform\n",
    "        self.target_transform = target_transform\n",
    "\n",
    "    def __len__(self):\n",
    "        return len(self.image_paths)\n",
    "\n",
    "    def __getitem__(self, idx):\n",
    "        img_path = self.image_paths[idx][0]\n",
    "        image = Image.open(img_path).convert('RGB') # Convert all images to 3 channel RGB as dataset contains some 4 channel RGBA images\n",
    "        label = torch.tensor(self.labels[idx], dtype=torch.float32)\n",
    "\n",
    "        if self.transform:\n",
    "            image = self.transform(image)\n",
    "        if self.target_transform:\n",
    "            label = self.target_transform(label)\n",
    "\n",
    "        return image, label"
   ],
   "id": "6d2422efba98f9d3",
   "outputs": [],
   "execution_count": 64
  },
  {
   "metadata": {},
   "cell_type": "markdown",
   "source": "EarlyStopping",
   "id": "b8df4482dfff64a"
  },
  {
   "metadata": {
    "ExecuteTime": {
     "end_time": "2025-03-25T19:40:08.735047Z",
     "start_time": "2025-03-25T19:40:08.732028Z"
    }
   },
   "cell_type": "code",
   "source": [
    "\"\"\"\n",
    "https://www.geeksforgeeks.org/how-to-handle-overfitting-in-pytorch-models-using-early-stopping/\n",
    "\n",
    "patience: Number of epochs to wait before stopping if no improvement.\n",
    "delta: Minimum change in the monitored quantity to qualify as an improvement.\n",
    "best_score, best_model_state: Track the best validation score and model state.\n",
    "call method: Updates the early stopping logic.\n",
    "\"\"\"\n",
    "\n",
    "class EarlyStopping:\n",
    "    def __init__(self, patience=5, delta=0):\n",
    "        self.patience = patience\n",
    "        self.delta = delta\n",
    "        self.best_score = None\n",
    "        self.early_stop = False\n",
    "        self.counter = 0\n",
    "        self.best_model_state = None\n",
    "\n",
    "    def __call__(self, val_loss, model):\n",
    "        score = -val_loss\n",
    "        if self.best_score is None:\n",
    "            self.best_score = score\n",
    "            self.best_model_state = model.state_dict()\n",
    "        elif score < self.best_score + self.delta:\n",
    "            self.counter += 1\n",
    "            if self.counter >= self.patience:\n",
    "                self.early_stop = True\n",
    "        else:\n",
    "            self.best_score = score\n",
    "            self.best_model_state = model.state_dict()\n",
    "            self.counter = 0"
   ],
   "id": "83bf43f5d17ec23a",
   "outputs": [],
   "execution_count": 65
  },
  {
   "metadata": {},
   "cell_type": "markdown",
   "source": "Model Saving",
   "id": "725045bfecf900d2"
  },
  {
   "metadata": {
    "ExecuteTime": {
     "end_time": "2025-03-25T19:40:08.741607Z",
     "start_time": "2025-03-25T19:40:08.739179Z"
    }
   },
   "cell_type": "code",
   "source": [
    "# https://pytorch.org/tutorials/beginner/saving_loading_models.html\n",
    "def save_model(epoch, model, optimizer, training_losses, validation_losses, filename):\n",
    "    torch.save({\n",
    "        \"epoch\": epoch+1,\n",
    "        \"model_state_dict\": model.state_dict(),\n",
    "        \"optimizer_state_dict\": optimizer.state_dict(),\n",
    "        \"training_losses\": training_losses, # full loss history, so that post-checkpoint models will have correct loss graph\n",
    "        \"validation_losses\": validation_losses\n",
    "    }, filename)"
   ],
   "id": "ecd0df3168ec0d26",
   "outputs": [],
   "execution_count": 66
  },
  {
   "metadata": {},
   "cell_type": "markdown",
   "source": "Training Function",
   "id": "f0c0f139fae6b763"
  },
  {
   "metadata": {
    "ExecuteTime": {
     "end_time": "2025-03-25T19:40:08.750104Z",
     "start_time": "2025-03-25T19:40:08.747005Z"
    }
   },
   "cell_type": "code",
   "source": [
    "# https://pytorch.org/tutorials/beginner/basics/optimization_tutorial.html\n",
    "def train_one_epoch(dataloader, model, loss_fn, optimizer, device):\n",
    "    size = len(dataloader.dataset)\n",
    "    model.train()\n",
    "    total_loss = 0.0\n",
    "\n",
    "    for batch, (images, labels) in enumerate(dataloader):\n",
    "        images, labels = images.to(device), labels.to(device)\n",
    "        prediction = model(images)\n",
    "        loss = loss_fn(prediction, labels)\n",
    "        loss.backward()\n",
    "        optimizer.step()\n",
    "        optimizer.zero_grad()\n",
    "        # Accumulate loss for this batch\n",
    "        total_loss += loss.item()\n",
    "\n",
    "        if batch % 100 == 0:\n",
    "            current = batch * len(images)\n",
    "            print(f\"Loss: {loss.item():.7f} [{current:5d}/{size:5d}]\")\n",
    "\n",
    "    avg_train_loss = total_loss / len(dataloader)\n",
    "    print(f\"Train loss for this epoch: {avg_train_loss:.7f}\")\n",
    "\n",
    "    # Return average training loss for this epoch\n",
    "    return avg_train_loss"
   ],
   "id": "a110414e40a8f7a3",
   "outputs": [],
   "execution_count": 67
  },
  {
   "metadata": {},
   "cell_type": "markdown",
   "source": "Validation Function",
   "id": "b8f6eebd1ccd14ff"
  },
  {
   "metadata": {
    "ExecuteTime": {
     "end_time": "2025-03-25T19:40:08.757593Z",
     "start_time": "2025-03-25T19:40:08.754750Z"
    }
   },
   "cell_type": "code",
   "source": [
    "def validate_one_epoch(dataloader, model, loss_fn, device):\n",
    "    model.eval()\n",
    "    total_val_loss = 0.0\n",
    "\n",
    "    with torch.no_grad():\n",
    "        for images, labels in dataloader:\n",
    "            images, labels = images.to(device), labels.to(device)\n",
    "            prediction = model(images)\n",
    "            loss = loss_fn(prediction, labels)\n",
    "            total_val_loss += loss.item()\n",
    "\n",
    "    avg_val_loss = total_val_loss / len(dataloader)\n",
    "    print(f\"Validation loss for this epoch: {avg_val_loss:.7f}\")\n",
    "\n",
    "    # Return average validation loss for this epoch\n",
    "    return avg_val_loss"
   ],
   "id": "a0294699f123c2d5",
   "outputs": [],
   "execution_count": 68
  },
  {
   "metadata": {},
   "cell_type": "markdown",
   "source": "Testing Function",
   "id": "55349355af1fd227"
  },
  {
   "metadata": {
    "ExecuteTime": {
     "end_time": "2025-03-25T19:40:08.765571Z",
     "start_time": "2025-03-25T19:40:08.761963Z"
    }
   },
   "cell_type": "code",
   "source": [
    "# https://pytorch.org/tutorials/beginner/basics/optimization_tutorial.html\n",
    "\n",
    "def test_loop(dataloader, model, hyperparameters, device, label):\n",
    "    model.eval()\n",
    "    total, correct = 0, 0\n",
    "    all_predictions = []\n",
    "    all_actual = []\n",
    "\n",
    "    # Evaluating the model with torch.no_grad() ensures that no gradients are computed during test mode\n",
    "    with torch.no_grad():\n",
    "        for images, labels in dataloader:\n",
    "            images = images.to(device)\n",
    "            labels = labels.to(device)\n",
    "\n",
    "            outputLogits = model(images)\n",
    "            probs = torch.sigmoid(outputLogits) # # Apply sigmoid to convert logits to get probabilities 0-1\n",
    "            preds = (probs > hyperparameters['prediction_threshold']) # Get binary predictions based on prediction threshold param\n",
    "\n",
    "            total += labels.numel()\n",
    "            correct += (preds == labels).sum().item()\n",
    "\n",
    "            all_predictions.append(preds.cpu().numpy())\n",
    "            all_actual.append(labels.cpu().numpy())\n",
    "\n",
    "    accuracy = 100 * correct / total\n",
    "    print(f'Test Error: \\n Accuracy: {accuracy:.2f} % \\n\\n')\n",
    "\n",
    "    all_predictions = np.concatenate(all_predictions, axis=0)\n",
    "    all_actual = np.concatenate(all_actual, axis=0)\n",
    "\n",
    "    matrix = confusion_matrix(all_actual, all_predictions)\n",
    "    plt.figure(figsize=(4, 3))\n",
    "    sns.heatmap(\n",
    "        matrix,\n",
    "        annot=True,\n",
    "        fmt=\"d\",\n",
    "        cmap=\"Reds\",\n",
    "        cbar=False,\n",
    "        xticklabels=[\"Pred Negative\", \"Pred Positive\"],\n",
    "        yticklabels=[\"True Negative\", \"True Positive\"]\n",
    "    )\n",
    "    plt.title(f\"Confusion Matrix: {ALLERGENS[label]}\")\n",
    "    plt.ylabel(\"True Label\")\n",
    "    plt.xlabel(\"Predicted Label\")\n",
    "    plt.tight_layout()\n",
    "    plt.show()\n",
    "\n",
    "    print(\"\\n\\nClassification Report:\")\n",
    "    # Sklearn classification report\n",
    "    report = classification_report(all_actual, all_predictions)\n",
    "    print(report)"
   ],
   "id": "eba65702c8bb8728",
   "outputs": [],
   "execution_count": 69
  },
  {
   "metadata": {},
   "cell_type": "markdown",
   "source": "Training Function for Single Allergen Label",
   "id": "f9f8c4f625c7f19a"
  },
  {
   "metadata": {
    "ExecuteTime": {
     "end_time": "2025-03-25T19:40:08.775299Z",
     "start_time": "2025-03-25T19:40:08.769909Z"
    }
   },
   "cell_type": "code",
   "source": [
    "def train_for_allergen_label(label, x, y, hyperparameters):\n",
    "    y = y[:, label] # get label values for specific allergen label\n",
    "\n",
    "    positives = np.sum(y==1)\n",
    "    negatives = np.sum(y==0)\n",
    "    print(f\"Before resampling: {positives} positives, {negatives} negatives\")\n",
    "\n",
    "    resampler = RandomUnderSampler() # create random under sampler from unbalanced-learn library\n",
    "\n",
    "    x_balanced, y_balanced = resampler.fit_resample(x, y) # balance x and y\n",
    "    y_balanced = y_balanced.reshape(-1,1) # iterative_train_test_split expects 2d array\n",
    "\n",
    "    positives = np.sum(y_balanced==1)\n",
    "    negatives = np.sum(y_balanced==0)\n",
    "    print(f\"After resampling: {positives} positives, {negatives} negatives\\n\")\n",
    "\n",
    "    x_train, y_train, x_test, y_test = iterative_train_test_split(x_balanced, y_balanced, 0.2) # train test 80:20 split\n",
    "\n",
    "    # Transform images to tensors and resize\n",
    "    transform = transforms.Compose([\n",
    "        transforms.Resize((224, 224)),\n",
    "        transforms.ToTensor(),\n",
    "        transforms.Normalize((0.5, 0.5, 0.5), (0.5, 0.5, 0.5))\n",
    "    ])\n",
    "    # Test more transforms later in training to improve accuracy - cropping, rotation, centering, flipping etc.\n",
    "\n",
    "    train_dataset = FoodAllergenDataset(x_train, y_train, transform=transform)\n",
    "    val_dataset = FoodAllergenDataset(x_test, y_test, transform=transform)\n",
    "    test_dataset = FoodAllergenDataset(x_test, y_test, transform=transform)\n",
    "\n",
    "    # Create Train Test Val DataLoaders\n",
    "    train_dataloader = DataLoader(train_dataset, batch_size=hyperparameters['batch_size'], shuffle=True)\n",
    "    val_dataloader = DataLoader(val_dataset, batch_size=hyperparameters['batch_size'], shuffle=False)\n",
    "    test_dataloader = DataLoader(test_dataset, batch_size=hyperparameters['batch_size'], shuffle=False)\n",
    "\n",
    "    # set accelerator device cpu/gpu\n",
    "    device = torch.accelerator.current_accelerator().type if torch.accelerator.is_available() else \"cpu\"\n",
    "    print(f\"Using {device} device\")\n",
    "\n",
    "    # Define model - ResNet50\n",
    "    model = models.resnet50(weights=ResNet50_Weights.IMAGENET1K_V2)\n",
    "    model.fc = nn.Linear(model.fc.in_features, 1) # altered final layer for single output binary classification\n",
    "    model = model.to(device)\n",
    "\n",
    "    # Loss function and optimizer\n",
    "    loss_fn = nn.BCEWithLogitsLoss()\n",
    "    optimizer = torch.optim.Adam(model.parameters(), lr=hyperparameters['learning_rate'])\n",
    "\n",
    "\n",
    "    epochs = hyperparameters['epochs']\n",
    "    best_val_loss = 1_000_000.\n",
    "    training_losses = []\n",
    "    validation_losses = []\n",
    "    early_stopping = EarlyStopping(hyperparameters['patience'], hyperparameters['delta'])\n",
    "\n",
    "    for epoch in range(epochs):\n",
    "        print(f\"\\nEpoch {epoch+1}/{epochs}\")\n",
    "\n",
    "        # Train and validate this epoch\n",
    "        train_loss = train_one_epoch(train_dataloader, model, loss_fn, optimizer, device)\n",
    "        val_loss = validate_one_epoch(val_dataloader, model, loss_fn, device)\n",
    "\n",
    "        # Append losses for this epoch\n",
    "        training_losses.append(train_loss)\n",
    "        validation_losses.append(val_loss)\n",
    "\n",
    "        # Save best model if validation loss improves\n",
    "        if val_loss < best_val_loss:\n",
    "            best_val_loss = val_loss\n",
    "            filename = f\"{ALLERGENS[label]}.pt\"\n",
    "            # save_model(epoch, model, optimizer, training_losses, validation_losses, filename) # Save best model as checkpoint (larger file), so that training can be resumed\n",
    "            torch.save(model.state_dict(), filename) # Save best model\n",
    "            print(f\"Saved new best model: {filename}\")\n",
    "\n",
    "        early_stopping(val_loss, model)\n",
    "        if early_stopping.early_stop:\n",
    "            print(\"Early stopping\\n\")\n",
    "            break\n",
    "    print(f\"Training Complete\\n\")\n",
    "\n",
    "\n",
    "    # Plot train and val losses\n",
    "    plt.figure(figsize=(8, 6))\n",
    "    plt.plot(range(1, len(training_losses) + 1), training_losses, label='Training Loss')\n",
    "    plt.plot(range(1, len(validation_losses) + 1), validation_losses, label='Validation Loss')\n",
    "    plt.xlabel('Epoch')\n",
    "    plt.ylabel('Loss')\n",
    "    plt.title('Training and Validation Loss for Allergen Label: ' + ALLERGENS[label])\n",
    "    plt.legend()\n",
    "    plt.grid(True)\n",
    "    plt.show()\n",
    "\n",
    "    # Run test loop. Produces Confusion matrix + classification report\n",
    "    test_loop(test_dataloader, model, hyperparameters, device, label)"
   ],
   "id": "84f59727fbd02545",
   "outputs": [],
   "execution_count": 70
  },
  {
   "metadata": {
    "ExecuteTime": {
     "end_time": "2025-03-25T19:42:35.395574Z",
     "start_time": "2025-03-25T19:40:08.790314Z"
    }
   },
   "cell_type": "code",
   "source": [
    "hyperparameters = {\n",
    "    'batch_size': 32,\n",
    "    'learning_rate': 1e-3,\n",
    "    'epochs': 10,\n",
    "    'patience': 10,\n",
    "    'delta': 0.05,\n",
    "    'prediction_threshold': 0.5\n",
    "}\n",
    "train_for_allergen_label(1, x, y, hyperparameters)"
   ],
   "id": "6c0c5b33a4bc4415",
   "outputs": [
    {
     "name": "stdout",
     "output_type": "stream",
     "text": [
      "Before resampling: 2414 positives, 59608 negatives\n",
      "After resampling: 2414 positives, 2414 negatives\n",
      "\n",
      "Using cuda device\n",
      "\n",
      "Epoch 1/10\n",
      "Loss: 0.6884316 [    0/ 3862]\n",
      "Loss: 0.6371784 [ 3200/ 3862]\n",
      "Train loss for this epoch: 0.6397636\n",
      "Validation loss for this epoch: 0.7448611\n",
      "Saved new best model: Crustaceans.pt\n",
      "\n",
      "Epoch 2/10\n",
      "Loss: 0.5444476 [    0/ 3862]\n",
      "Loss: 0.6503499 [ 3200/ 3862]\n",
      "Train loss for this epoch: 0.6009559\n",
      "Validation loss for this epoch: 1.3056135\n",
      "\n",
      "Epoch 3/10\n",
      "Loss: 0.6555128 [    0/ 3862]\n",
      "Loss: 0.6115804 [ 3200/ 3862]\n",
      "Train loss for this epoch: 0.5690737\n",
      "Validation loss for this epoch: 0.6066171\n",
      "Saved new best model: Crustaceans.pt\n",
      "\n",
      "Epoch 4/10\n",
      "Loss: 0.5903382 [    0/ 3862]\n",
      "Loss: 0.6274805 [ 3200/ 3862]\n",
      "Train loss for this epoch: 0.5463249\n",
      "Validation loss for this epoch: 0.6312297\n",
      "\n",
      "Epoch 5/10\n",
      "Loss: 0.5343622 [    0/ 3862]\n",
      "Loss: 0.5231863 [ 3200/ 3862]\n",
      "Train loss for this epoch: 0.4839766\n",
      "Validation loss for this epoch: 0.6138535\n",
      "\n",
      "Epoch 6/10\n",
      "Loss: 0.4400058 [    0/ 3862]\n",
      "Loss: 0.5522768 [ 3200/ 3862]\n",
      "Train loss for this epoch: 0.4444895\n",
      "Validation loss for this epoch: 0.5901190\n",
      "Saved new best model: Crustaceans.pt\n",
      "\n",
      "Epoch 7/10\n",
      "Loss: 0.3126101 [    0/ 3862]\n",
      "Loss: 0.3737847 [ 3200/ 3862]\n",
      "Train loss for this epoch: 0.3905786\n",
      "Validation loss for this epoch: 0.7293530\n",
      "\n",
      "Epoch 8/10\n",
      "Loss: 0.2728693 [    0/ 3862]\n",
      "Loss: 0.3255195 [ 3200/ 3862]\n",
      "Train loss for this epoch: 0.3254339\n",
      "Validation loss for this epoch: 0.7247227\n",
      "\n",
      "Epoch 9/10\n",
      "Loss: 0.2884130 [    0/ 3862]\n",
      "Loss: 0.3910500 [ 3200/ 3862]\n",
      "Train loss for this epoch: 0.2715928\n",
      "Validation loss for this epoch: 0.9533171\n",
      "\n",
      "Epoch 10/10\n",
      "Loss: 0.2678579 [    0/ 3862]\n",
      "Loss: 0.1753519 [ 3200/ 3862]\n",
      "Train loss for this epoch: 0.2159136\n",
      "Validation loss for this epoch: 0.8031539\n",
      "Training Complete\n",
      "\n"
     ]
    },
    {
     "data": {
      "text/plain": [
       "<Figure size 800x600 with 1 Axes>"
      ],
      "image/png": "[encoded data removed]"
     },
     "metadata": {},
     "output_type": "display_data"
    },
    {
     "name": "stdout",
     "output_type": "stream",
     "text": [
      "Test Error: \n",
      " Accuracy: 69.25 % \n",
      "\n",
      "\n"
     ]
    },
    {
     "data": {
      "text/plain": [
       "<Figure size 400x300 with 1 Axes>"
      ],
      "image/png": "[encoded data removed]"
     },
     "metadata": {},
     "output_type": "display_data"
    },
    {
     "name": "stdout",
     "output_type": "stream",
     "text": [
      "\n",
      "\n",
      "Classification Report:\n",
      "              precision    recall  f1-score   support\n",
      "\n",
      "         0.0       0.68      0.73      0.70       483\n",
      "         1.0       0.71      0.66      0.68       483\n",
      "\n",
      "    accuracy                           0.69       966\n",
      "   macro avg       0.69      0.69      0.69       966\n",
      "weighted avg       0.69      0.69      0.69       966\n",
      "\n"
     ]
    }
   ],
   "execution_count": 72
  },
  {
   "metadata": {
    "ExecuteTime": {
     "end_time": "2025-03-25T20:14:25.169564Z",
     "start_time": "2025-03-25T19:46:01.908745Z"
    }
   },
   "cell_type": "code",
   "source": [
    "hyperparameters = {\n",
    "    'batch_size': 64,\n",
    "    'learning_rate': 1e-3,\n",
    "    'epochs': 20,\n",
    "    'patience': 10,\n",
    "    'delta': 0.05,\n",
    "    'prediction_threshold': 0.5\n",
    "}\n",
    "train_for_allergen_label(6, x, y, hyperparameters)"
   ],
   "id": "2999284c53d7ea0f",
   "outputs": [
    {
     "name": "stdout",
     "output_type": "stream",
     "text": [
      "Before resampling: 38201 positives, 23821 negatives\n",
      "After resampling: 23821 positives, 23821 negatives\n",
      "\n",
      "Using cuda device\n",
      "\n",
      "Epoch 1/20\n",
      "Loss: 0.6821166 [    0/38113]\n",
      "Loss: 0.6528948 [ 6400/38113]\n"
     ]
    },
    {
     "name": "stderr",
     "output_type": "stream",
     "text": [
      "C:\\GitHub\\FYP\\.venv\\Lib\\site-packages\\PIL\\Image.py:1054: UserWarning: Palette images with Transparency expressed in bytes should be converted to RGBA images\n",
      "  warnings.warn(\n"
     ]
    },
    {
     "name": "stdout",
     "output_type": "stream",
     "text": [
      "Loss: 0.6617637 [12800/38113]\n",
      "Loss: 0.6600649 [19200/38113]\n",
      "Loss: 0.6746269 [25600/38113]\n",
      "Loss: 0.6344092 [32000/38113]\n",
      "Train loss for this epoch: 0.6493475\n",
      "Validation loss for this epoch: 0.7203771\n",
      "Saved new best model: Milk.pt\n",
      "\n",
      "Epoch 2/20\n",
      "Loss: 0.6107925 [    0/38113]\n",
      "Loss: 0.6528397 [ 6400/38113]\n",
      "Loss: 0.6994396 [12800/38113]\n",
      "Loss: 0.6295404 [19200/38113]\n",
      "Loss: 0.6555905 [25600/38113]\n",
      "Loss: 0.6783010 [32000/38113]\n",
      "Train loss for this epoch: 0.6291868\n",
      "Validation loss for this epoch: 0.7154743\n",
      "Saved new best model: Milk.pt\n",
      "\n",
      "Epoch 3/20\n",
      "Loss: 0.6252351 [    0/38113]\n",
      "Loss: 0.6491871 [ 6400/38113]\n",
      "Loss: 0.5990890 [12800/38113]\n",
      "Loss: 0.5760082 [19200/38113]\n",
      "Loss: 0.5553084 [25600/38113]\n",
      "Loss: 0.5498281 [32000/38113]\n",
      "Train loss for this epoch: 0.6159999\n",
      "Validation loss for this epoch: 0.6897971\n",
      "Saved new best model: Milk.pt\n",
      "\n",
      "Epoch 4/20\n",
      "Loss: 0.6476938 [    0/38113]\n",
      "Loss: 0.7097384 [ 6400/38113]\n",
      "Loss: 0.6065428 [12800/38113]\n",
      "Loss: 0.6569019 [19200/38113]\n",
      "Loss: 0.5826401 [25600/38113]\n",
      "Loss: 0.5849308 [32000/38113]\n",
      "Train loss for this epoch: 0.6029234\n",
      "Validation loss for this epoch: 0.7069755\n",
      "\n",
      "Epoch 5/20\n",
      "Loss: 0.5759273 [    0/38113]\n",
      "Loss: 0.5873832 [ 6400/38113]\n",
      "Loss: 0.6603490 [12800/38113]\n",
      "Loss: 0.5901021 [19200/38113]\n",
      "Loss: 0.6002442 [25600/38113]\n",
      "Loss: 0.6095254 [32000/38113]\n",
      "Train loss for this epoch: 0.5902456\n",
      "Validation loss for this epoch: 0.6994043\n",
      "\n",
      "Epoch 6/20\n",
      "Loss: 0.5478024 [    0/38113]\n",
      "Loss: 0.5431178 [ 6400/38113]\n",
      "Loss: 0.5482661 [12800/38113]\n",
      "Loss: 0.6719506 [19200/38113]\n",
      "Loss: 0.5796062 [25600/38113]\n",
      "Loss: 0.5754904 [32000/38113]\n",
      "Train loss for this epoch: 0.5697142\n",
      "Validation loss for this epoch: 0.7278345\n",
      "\n",
      "Epoch 7/20\n",
      "Loss: 0.5463288 [    0/38113]\n",
      "Loss: 0.5346526 [ 6400/38113]\n",
      "Loss: 0.5601957 [12800/38113]\n",
      "Loss: 0.6820543 [19200/38113]\n",
      "Loss: 0.5160984 [25600/38113]\n",
      "Loss: 0.5590891 [32000/38113]\n",
      "Train loss for this epoch: 0.5393809\n",
      "Validation loss for this epoch: 0.7571148\n",
      "\n",
      "Epoch 8/20\n",
      "Loss: 0.5123634 [    0/38113]\n",
      "Loss: 0.4369478 [ 6400/38113]\n",
      "Loss: 0.5289317 [12800/38113]\n",
      "Loss: 0.3953388 [19200/38113]\n",
      "Loss: 0.4891507 [25600/38113]\n",
      "Loss: 0.4958680 [32000/38113]\n",
      "Train loss for this epoch: 0.4909161\n",
      "Validation loss for this epoch: 0.7743845\n",
      "\n",
      "Epoch 9/20\n",
      "Loss: 0.4269334 [    0/38113]\n",
      "Loss: 0.4272007 [ 6400/38113]\n",
      "Loss: 0.4149316 [12800/38113]\n",
      "Loss: 0.3507048 [19200/38113]\n",
      "Loss: 0.4785835 [25600/38113]\n",
      "Loss: 0.3899993 [32000/38113]\n",
      "Train loss for this epoch: 0.4250354\n",
      "Validation loss for this epoch: 0.7914421\n",
      "\n",
      "Epoch 10/20\n",
      "Loss: 0.2710431 [    0/38113]\n",
      "Loss: 0.3311465 [ 6400/38113]\n",
      "Loss: 0.2467082 [12800/38113]\n",
      "Loss: 0.4158825 [19200/38113]\n",
      "Loss: 0.3711322 [25600/38113]\n",
      "Loss: 0.3379586 [32000/38113]\n",
      "Train loss for this epoch: 0.3342907\n",
      "Validation loss for this epoch: 1.0104009\n",
      "\n",
      "Epoch 11/20\n",
      "Loss: 0.2054976 [    0/38113]\n",
      "Loss: 0.2943193 [ 6400/38113]\n",
      "Loss: 0.2994913 [12800/38113]\n",
      "Loss: 0.2505102 [19200/38113]\n",
      "Loss: 0.2415150 [25600/38113]\n",
      "Loss: 0.4259446 [32000/38113]\n",
      "Train loss for this epoch: 0.2442845\n",
      "Validation loss for this epoch: 1.2072019\n",
      "Early stopping\n",
      "\n",
      "Training Complete\n",
      "\n"
     ]
    },
    {
     "data": {
      "text/plain": [
       "<Figure size 800x600 with 1 Axes>"
      ],
      "image/png": "[encoded data removed]"
     },
     "metadata": {},
     "output_type": "display_data"
    },
    {
     "name": "stdout",
     "output_type": "stream",
     "text": [
      "Test Error: \n",
      " Accuracy: 57.73 % \n",
      "\n",
      "\n"
     ]
    },
    {
     "data": {
      "text/plain": [
       "<Figure size 400x300 with 1 Axes>"
      ],
      "image/png": "[encoded data removed]"
     },
     "metadata": {},
     "output_type": "display_data"
    },
    {
     "name": "stdout",
     "output_type": "stream",
     "text": [
      "\n",
      "\n",
      "Classification Report:\n",
      "              precision    recall  f1-score   support\n",
      "\n",
      "         0.0       0.57      0.66      0.61      4765\n",
      "         1.0       0.59      0.49      0.54      4764\n",
      "\n",
      "    accuracy                           0.58      9529\n",
      "   macro avg       0.58      0.58      0.57      9529\n",
      "weighted avg       0.58      0.58      0.57      9529\n",
      "\n"
     ]
    }
   ],
   "execution_count": 73
  },
  {
   "metadata": {},
   "cell_type": "code",
   "outputs": [],
   "execution_count": null,
   "source": "",
   "id": "b5427de89f024bff"
  }
 ],
 "metadata": {
  "kernelspec": {
   "display_name": "Python 3",
   "language": "python",
   "name": "python3"
  },
  "language_info": {
   "codemirror_mode": {
    "name": "ipython",
    "version": 2
   },
   "file_extension": ".py",
   "mimetype": "text/x-python",
   "name": "python",
   "nbconvert_exporter": "python",
   "pygments_lexer": "ipython2",
   "version": "2.7.6"
  }
 },
 "nbformat": 4,
 "nbformat_minor": 5
}
